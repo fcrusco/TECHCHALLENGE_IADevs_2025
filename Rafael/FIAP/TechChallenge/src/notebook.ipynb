{
 "cells": [
  {
   "cell_type": "code",
   "execution_count": null,
   "id": "2ad8e0c4",
   "metadata": {},
   "outputs": [],
   "source": [
    "Classificação de Diabetes utilizando Regressão Logística e Random Forest\n",
    "\n",
    "Realizando treinamento, avaliação e interpretação de modelos preditivos para classificação de diabetes, utilizando o dataset Pima Indians Diabetes.\n",
    "\n",
    "Os modelos implementados são: Regressão Logística e Random Forest, com pré-processamento completo, balanceamento de classes via SMOTE, análise exploratória de dados (EDA), avaliação com métricas de classificação e visualização da importância das features."
   ]
  },
  {
   "cell_type": "code",
   "execution_count": null,
   "id": "28659720",
   "metadata": {},
   "outputs": [],
   "source": [
    "#Bibliotecas\n",
    "#pip install pandas numpy matplotlib seaborn scikit-learn imbalanced-learn joblib\n"
   ]
  },
  {
   "cell_type": "code",
   "execution_count": null,
   "id": "ddd866c9",
   "metadata": {},
   "outputs": [],
   "source": [
    "#Import bibliotecas\n",
    "import pandas as pd\n",
    "import numpy as np\n",
    "import matplotlib.pyplot as plt\n",
    "import seaborn as sns\n",
    "import joblib\n",
    "import os\n",
    "\n",
    "from sklearn.model_selection import train_test_split\n",
    "from sklearn.preprocessing import StandardScaler\n",
    "from sklearn.linear_model import LogisticRegression\n",
    "from sklearn.ensemble import RandomForestClassifier\n",
    "from sklearn.metrics import classification_report, confusion_matrix\n",
    "from imblearn.over_sampling import SMOTE  # Para lidar com desbalanceamento\n",
    "\n",
    "#Carregando o dataset Salvo localmente na máquina (o arquivo está dentro da pasta data, porém, é necessário colocar o caminho anterior com de acordo aonde foi salvo na sua máquina)\n",
    "df = pd.read_csv('...data/diabetes.csv')"
   ]
  },
  {
   "cell_type": "code",
   "execution_count": null,
   "id": "68d343a7",
   "metadata": {},
   "outputs": [],
   "source": [
    "############    inspecionando os dados    ############\n",
    "print(df.head())\n",
    "print(df.info())\n",
    "print(df.describe())\n",
    "\n",
    "sns.countplot(x='Outcome', data=df)\n",
    "plt.title(\"Distribuição de Outcome\")\n",
    "plt.show()\n"
   ]
  },
  {
   "cell_type": "markdown",
   "id": "508fd58b",
   "metadata": {},
   "source": [
    "  Pregnancies  Glucose  BloodPressure  SkinThickness  Insulin   BMI  DiabetesPedigreeFunction  Age  Outcome\n",
    "0            6      148             72             35        0  33.6                     0.627   50        1\n",
    "1            1       85             66             29        0  26.6                     0.351   31        0\n",
    "2            8      183             64              0        0  23.3                     0.672   32        1\n",
    "3            1       89             66             23       94  28.1                     0.167   21        0\n",
    "4            0      137             40             35      168  43.1                     2.288   33        1"
   ]
  },
  {
   "cell_type": "markdown",
   "id": "bef93674",
   "metadata": {},
   "source": [
    "       Pregnancies     Glucose  BloodPressure  SkinThickness     Insulin         BMI  DiabetesPedigreeFunction         Age     Outcome\n",
    "count   768.000000  768.000000     768.000000     768.000000  768.000000  768.000000                768.000000  768.000000  768.000000\n",
    "mean      3.845052  120.894531      69.105469      20.536458   79.799479   31.992578                  0.471876   33.240885    0.348958\n",
    "std       3.369578   31.972618      19.355807      15.952218  115.244002    7.884160                  0.331329   11.760232    0.476951\n",
    "min       0.000000    0.000000       0.000000       0.000000    0.000000    0.000000                  0.078000   21.000000    0.000000\n",
    "25%       1.000000   99.000000      62.000000       0.000000    0.000000   27.300000                  0.243750   24.000000    0.000000\n",
    "50%       3.000000  117.000000      72.000000      23.000000   30.500000   32.000000                  0.372500   29.000000    0.000000\n",
    "75%       6.000000  140.250000      80.000000      32.000000  127.250000   36.600000                  0.626250   41.000000    1.000000\n",
    "max      17.000000  199.000000     122.000000      99.000000  846.000000   67.100000                  2.420000   81.000000    1.000000"
   ]
  },
  {
   "cell_type": "markdown",
   "id": "8bb4c5af",
   "metadata": {},
   "source": [
    "Carregando mapa de Correlação, para verificar quais dados tem mais relação com outro, \n",
    "exemplo, quando uma pessoa tem diabetes, se ela tem a glicose alta, a espessura da pele também aumenta,\n",
    "esse mapa valida esse tipo de detalhe"
   ]
  },
  {
   "cell_type": "code",
   "execution_count": null,
   "id": "c85eaf14",
   "metadata": {},
   "outputs": [],
   "source": [
    "# -----------------------------\n",
    "#    Mapa de Correlação\n",
    "# -----------------------------\n",
    "plt.figure(figsize=(10,8))\n",
    "sns.heatmap(df.corr(), annot=True, cmap='coolwarm')\n",
    "plt.title(\"Mapa de Correlação\")\n",
    "plt.show()"
   ]
  },
  {
   "cell_type": "markdown",
   "id": "2721eb7b",
   "metadata": {},
   "source": [
    "Algumas colunas do dataset contêm o valor 0, mas nesse contexto, 0 não representa um resultado real, \n",
    "e sim a ausência de medição (ex.: zero de Insulina ou BMI não faz sentido fisiologicamente).\n",
    "Portanto, substituímos os zeros por NaN (not a number).\n",
    "Em seguida, preenchemos esses valores nulos com a mediana da coluna, preservando a distribuição dos dados\n",
    "e evitando distorções que poderiam prejudicar o treinamento do modelo.\n",
    "Por fim, padronizamos as features usando StandardScaler, facilitando a convergência e o desempenho dos modelos de Machine Learning."
   ]
  },
  {
   "cell_type": "code",
   "execution_count": null,
   "id": "fcaaf25a",
   "metadata": {},
   "outputs": [],
   "source": [
    "############    Normalizando os dados    ############\n",
    "cols_zero = ['Glucose','BloodPressure','SkinThickness','Insulin','BMI']\n",
    "df[cols_zero] = df[cols_zero].replace(0, np.nan)\n",
    "print(df.isnull().sum())\n",
    "df.fillna(df.median(), inplace=True)\n",
    "\n",
    "X = df.drop('Outcome', axis=1)\n",
    "y = df['Outcome']\n",
    "\n",
    "scaler = StandardScaler()\n",
    "X_scaled = scaler.fit_transform(X)"
   ]
  },
  {
   "cell_type": "markdown",
   "id": "8ea279e4",
   "metadata": {},
   "source": [
    "ao utilizar o \"print(df.isnull()), estamos somando quantos itens nulos temos por coluna, que resulta assim:\n",
    "Pregnancies                   0\n",
    "Glucose                       5\n",
    "BloodPressure                35\n",
    "SkinThickness               227\n",
    "Insulin                     374\n",
    "BMI                          11\n",
    "DiabetesPedigreeFunction      0\n",
    "Age                           0\n",
    "Outcome                       0\n",
    "dtype: int64"
   ]
  },
  {
   "cell_type": "code",
   "execution_count": null,
   "id": "d573c6c0",
   "metadata": {},
   "outputs": [],
   "source": [
    "# -----------------------------\n",
    "#    Dividindo treino e teste\n",
    "# -----------------------------\n",
    "X_train, X_test, y_train, y_test = train_test_split(\n",
    "    X_scaled, y, test_size=0.2, random_state=42, stratify=y\n",
    ")"
   ]
  },
  {
   "cell_type": "code",
   "execution_count": null,
   "id": "2b3bdfc3",
   "metadata": {},
   "outputs": [],
   "source": [
    "# -----------------------------\n",
    "#  lidando com o desbalanceamento\n",
    "# -----------------------------\n",
    "smote = SMOTE(random_state=42)\n",
    "X_train_res, y_train_res = smote.fit_resample(X_train, y_train)\n"
   ]
  },
  {
   "cell_type": "code",
   "execution_count": null,
   "id": "7fa91838",
   "metadata": {},
   "outputs": [],
   "source": [
    "# -----------------------------\n",
    "#   Parte de treinamento\n",
    "# -----------------------------\n",
    "lr = LogisticRegression(random_state=42)\n",
    "lr.fit(X_train_res, y_train_res)\n",
    "y_pred_lr = lr.predict(X_test)\n",
    "\n",
    "rf = RandomForestClassifier(random_state=42, n_estimators=100)\n",
    "rf.fit(X_train_res, y_train_res)\n",
    "y_pred_rf = rf.predict(X_test)"
   ]
  },
  {
   "cell_type": "code",
   "execution_count": null,
   "id": "aa730606",
   "metadata": {},
   "outputs": [],
   "source": [
    "############   Salvando os modelos treinados    ############\n",
    "#insira o caminho para salvar o modelo\n",
    "os.makedirs('outputs', exist_ok=True)\n",
    "\n",
    "joblib.dump(lr, '.../outputs/lr_model.pkl')\n",
    "joblib.dump(rf, '../outputs/rf_model.pkl')\n",
    "joblib.dump(scaler, '.../outputs/scaler.pkl')"
   ]
  },
  {
   "cell_type": "markdown",
   "id": "7b703bd7",
   "metadata": {},
   "source": [
    "A função avaliar_modelo mostra métricas de classificação (accuracy, precision, recall e F1-score) \n",
    "e plota a matriz de confusão do modelo. \n",
    "A matriz ajuda a entender quantos casos foram classificados corretamente (verdadeiros positivos/negativos) \n",
    "e quantos foram classificados incorretamente (falsos positivos/negativos)."
   ]
  },
  {
   "cell_type": "code",
   "execution_count": null,
   "id": "dfd23b81",
   "metadata": {},
   "outputs": [],
   "source": [
    "def avaliar_modelo(y_true, y_pred, modelo_name):\n",
    "    print(f\"Resultados para {modelo_name}:\")\n",
    "    print(classification_report(y_true, y_pred))\n",
    "    cm = confusion_matrix(y_true, y_pred)\n",
    "    sns.heatmap(cm, annot=True, fmt='d', cmap='Blues')\n",
    "    plt.title(f\"Matriz de Confusão - {modelo_name}\")\n",
    "    plt.xlabel(\"Predito\")\n",
    "    plt.ylabel(\"Real\")\n",
    "    plt.show()\n",
    "    \n",
    "avaliar_modelo(y_test, y_pred_lr, \"Regressão Logística\")\n",
    "avaliar_modelo(y_test, y_pred_rf, \"Random Forest\")"
   ]
  },
  {
   "cell_type": "markdown",
   "id": "adcd70d4",
   "metadata": {},
   "source": [
    "Agora que finalizamos a parte de análise, limpeza/normalização e treinamento,\n",
    "vamos testar o modelo!"
   ]
  },
  {
   "cell_type": "code",
   "execution_count": null,
   "id": "fb3758ad",
   "metadata": {},
   "outputs": [],
   "source": [
    "# Carregar dataset original novamente (apenas para referencias e medianas)\n",
    "#Essas medianas são usadas para preencher valores nulos (ou zeros) inseridos pelo usuário.\n",
    "df = pd.read_csv('.../data/diabetes.csv')\n"
   ]
  },
  {
   "cell_type": "markdown",
   "id": "31efa3cb",
   "metadata": {},
   "source": [
    "Aqui, carregamos os modelos e o escalonador que foram treinados e salvos anteriormente.\n",
    "O joblib é usado para ler esses arquivos .pkl que contêm os modelos prontos."
   ]
  },
  {
   "cell_type": "code",
   "execution_count": null,
   "id": "27d92204",
   "metadata": {},
   "outputs": [],
   "source": [
    "# Carregar modelos e scaler salvos (insira o diretório)\n",
    "lr = joblib.load('.../outputs/lr_model.pkl')\n",
    "rf = joblib.load('.../outputs/rf_model.pkl')\n",
    "scaler = joblib.load('.../outputs/scaler.pkl')"
   ]
  },
  {
   "cell_type": "markdown",
   "id": "a48da3da",
   "metadata": {},
   "source": [
    "Esta função serve para o usuário digitar manualmente os dados de um novo paciente.\n",
    "Ela cria um DataFrame com as mesmas colunas do dataset original e realiza o mesmo pré-processamento\n",
    "que foi feito no momento do treinamento"
   ]
  },
  {
   "cell_type": "code",
   "execution_count": null,
   "id": "7a22f08e",
   "metadata": {},
   "outputs": [],
   "source": [
    "# Função para inserir dados do paciente\n",
    "def inserir_dados_paciente():\n",
    "    print(\"Insira os dados do paciente:\")\n",
    "    Pregnancies = int(input(\"Número de gestações: \"))\n",
    "    Glucose = float(input(\"Glicose (mg/dL): \"))\n",
    "    BloodPressure = float(input(\"Pressão arterial (mmHg): \"))\n",
    "    SkinThickness = float(input(\"Espessura da pele (mm): \"))\n",
    "    Insulin = float(input(\"Insulina (µU/mL): \"))\n",
    "    BMI = float(input(\"IMC (BMI): \"))\n",
    "    DiabetesPedigreeFunction = float(input(\"Função de pedigree diabético: \"))\n",
    "    Age = int(input(\"Idade: \"))\n",
    "    \n",
    "    paciente = pd.DataFrame({\n",
    "        'Pregnancies':[Pregnancies],\n",
    "        'Glucose':[Glucose],\n",
    "        'BloodPressure':[BloodPressure],\n",
    "        'SkinThickness':[SkinThickness],\n",
    "        'Insulin':[Insulin],\n",
    "        'BMI':[BMI],\n",
    "        'DiabetesPedigreeFunction':[DiabetesPedigreeFunction],\n",
    "        'Age':[Age]\n",
    "    })\n",
    "    \n",
    "    # Tratar zeros e imputar mediana\n",
    "    cols_zero = ['Glucose','BloodPressure','SkinThickness','Insulin','BMI']\n",
    "    paciente[cols_zero] = paciente[cols_zero].replace(0, np.nan)\n",
    "    paciente.fillna(df.median(), inplace=True)\n",
    "    \n",
    "    # Escalonar\n",
    "    paciente_scaled = scaler.transform(paciente)\n",
    "    \n",
    "    return paciente_scaled"
   ]
  },
  {
   "cell_type": "code",
   "execution_count": null,
   "id": "5d027774",
   "metadata": {},
   "outputs": [],
   "source": [
    "# Inserir paciente / chamando a funcao\n",
    "novo_paciente_scaled = inserir_dados_paciente()"
   ]
  },
  {
   "cell_type": "code",
   "execution_count": null,
   "id": "d549a2bd",
   "metadata": {},
   "outputs": [],
   "source": [
    "# criando um dicionario com os dois modelos treinados\n",
    "modelos = {'Regressao Logistica': lr, 'Random Forest': rf}"
   ]
  },
  {
   "cell_type": "markdown",
   "id": "d251bdee",
   "metadata": {},
   "source": [
    " --------------- Realizando as Predições ----------------   \n",
    " Para cada modelo, o código faz:\n",
    "- A previsão (0 = Não Diabetes, 1 = Diabetes)\n",
    "- Calcula as probabilidades de cada classe\n",
    "- Exibe o resultado formatado"
   ]
  },
  {
   "cell_type": "code",
   "execution_count": null,
   "id": "75d3631a",
   "metadata": {},
   "outputs": [],
   "source": [
    "for nome, modelo in modelos.items():\n",
    "    resultado = modelo.predict(novo_paciente_scaled)\n",
    "    proba = modelo.predict_proba(novo_paciente_scaled)\n",
    "    \n",
    "    print(f\"\\n===== {nome} =====\")\n",
    "    print(\"Predição:\", \"Diabetes\" if resultado[0]==1 else \"Não Diabetes\")\n",
    "    \n",
    "    # Exibir probabilidades de forma legível\n",
    "    classes = ['Não Diabetes', 'Diabetes']\n",
    "    proba_percent = [f\"{classes[i]}: {p*100:.2f}%\" for i, p in enumerate(proba[0])]\n",
    "    print(\"Probabilidades:\")\n",
    "    for p in proba_percent:\n",
    "        print(p)"
   ]
  }
 ],
 "metadata": {
  "kernelspec": {
   "display_name": "Python 3",
   "language": "python",
   "name": "python3"
  },
  "language_info": {
   "name": "python",
   "version": "3.11.9"
  }
 },
 "nbformat": 4,
 "nbformat_minor": 5
}
